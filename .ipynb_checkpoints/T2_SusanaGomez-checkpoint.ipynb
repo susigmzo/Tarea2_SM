{
 "cells": [
  {
   "cell_type": "markdown",
   "metadata": {},
   "source": [
    "# Resumen 1\n",
    "## Programming language of the year? Python is standout in latest rankings\n",
    "*Python* is one of the top three most popular programming languages. *Python* was created in 1989 by Dutch programmer *Guido van Rossum*. \n",
    "The Tiobe index and other popularity rankings from IEEE Spectrum and PYPL offer programmers a way to assess which languages are worth investing time into.*Python* entered Tiobe´s popularity index in September. \"It's often the first language taught at universities and it's the go-to language for statistical analysis, machine learning, scripting, web programming, and scientific computing\", Tiobe commented. \n",
    "It is also important to note that *Python* is the most popular language with hackers, because of its easy-to-grasp syntax, extense availability of online tutorials, and an abundance of harmless third-party software libraries that can be repurposed for malicious use.\n"
   ]
  },
  {
   "cell_type": "code",
   "execution_count": null,
   "metadata": {},
   "outputs": [],
   "source": []
  }
 ],
 "metadata": {
  "kernelspec": {
   "display_name": "Python 3",
   "language": "python",
   "name": "python3"
  },
  "language_info": {
   "codemirror_mode": {
    "name": "ipython",
    "version": 3
   },
   "file_extension": ".py",
   "mimetype": "text/x-python",
   "name": "python",
   "nbconvert_exporter": "python",
   "pygments_lexer": "ipython3",
   "version": "3.8.3"
  }
 },
 "nbformat": 4,
 "nbformat_minor": 4
}
