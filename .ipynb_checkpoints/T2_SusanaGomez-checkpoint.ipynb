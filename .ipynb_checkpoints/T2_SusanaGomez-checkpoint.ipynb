{
 "cells": [
  {
   "cell_type": "markdown",
   "metadata": {},
   "source": [
    "# Resumen 1\n",
    "## Programming language of the year? Python is standout in latest rankings\n",
    "*Python* is one of the top three most popular programming languages. *Python* was created in 1989 by Dutch programmer *Guido van Rossum*. \n",
    "The Tiobe index and other popularity rankings from IEEE Spectrum and PYPL offer programmers a way to assess which languages are worth investing time into.*Python* entered Tiobe´s popularity index in September. \"It's often the first language taught at universities and it's the go-to language for statistical analysis, machine learning, scripting, web programming, and scientific computing\", Tiobe commented. \n",
    "It is also important to note that *Python* is the most popular language with hackers, because of its easy-to-grasp syntax, extense availability of online tutorials, and an abundance of harmless third-party software libraries that can be repurposed for malicious use.\n"
   ]
  },
  {
   "cell_type": "markdown",
   "metadata": {},
   "source": [
    "# Resumen 2\n",
    "## Python: 7 Important Reasons Why You Should Use Python\n",
    "*Python* is a general purpose and high level programming language. You can use *Python* for developing desktop GUI applications, websites and web applications. This article describes 7 reasons for using *Python*:\n",
    "1. Readable and Maintainable Code: simplifies manteinance and updates.\n",
    "2. Multiple Programming Paradigms: supports object oriented and structured programming fully.\n",
    "3. Compatible with Major Platforms and Systems: you can run the same code on multiple platforms without recompilation.\n",
    "4. Robust Standard Library: the standard library allows you to choose from a wide range of modules according to your needs.\n",
    "5. Many Open Source Frameworks and Tools: helps you to curtail software development cost significantly.\n",
    "6. Simplify Complex Software Development: you can use the programming language for developing both desktop and web applications, complex scientific and numeric applications, or even to accomplish artificial intelligence (AI) and natural language processing tasks.\n",
    "7. Adopt Test Driven Development: you can use Python to create prototype of the software application rapidly.\n",
    "Some of the disadvantages of *Python* are that it lacks some of the built-in features provided by other modern programming language or that, as several studies have shown, *Python* is slower than several widely used programming languages including Java and C++."
   ]
  },
  {
   "cell_type": "code",
   "execution_count": null,
   "metadata": {},
   "outputs": [],
   "source": []
  }
 ],
 "metadata": {
  "kernelspec": {
   "display_name": "Python 3",
   "language": "python",
   "name": "python3"
  },
  "language_info": {
   "codemirror_mode": {
    "name": "ipython",
    "version": 3
   },
   "file_extension": ".py",
   "mimetype": "text/x-python",
   "name": "python",
   "nbconvert_exporter": "python",
   "pygments_lexer": "ipython3",
   "version": "3.8.3"
  }
 },
 "nbformat": 4,
 "nbformat_minor": 4
}
